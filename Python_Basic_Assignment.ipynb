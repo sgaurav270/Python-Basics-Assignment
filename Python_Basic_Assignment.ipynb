{
  "nbformat": 4,
  "nbformat_minor": 0,
  "metadata": {
    "colab": {
      "provenance": []
    },
    "kernelspec": {
      "name": "python3",
      "display_name": "Python 3"
    },
    "language_info": {
      "name": "python"
    }
  },
  "cells": [
    {
      "cell_type": "markdown",
      "source": [
        "\n",
        "# Python Basics Assignment\n",
        "\n",
        "\n"
      ],
      "metadata": {
        "id": "pnV85RXuRx9Z"
      }
    },
    {
      "cell_type": "markdown",
      "source": [],
      "metadata": {
        "id": "YzzoRnOAR6_0"
      }
    },
    {
      "cell_type": "markdown",
      "source": [
        "1. What is Python, and why is it popular ?\n",
        "\n",
        "  - Python is a high-level, interpreted programming language known for its simplicity, readability, and versatility. It supports multiple programming paradigms, including procedural, object-oriented, and functional programming. Python is widely used in web development, data analysis, artificial intelligence, scientific computing, automation.It is so Popular because of its Ease of Learning use, Versatility and Strong Support.\n",
        "\n",
        "2. What is an interpreter in Python ?\n",
        "\n",
        "  - An interpreter in Python is a program that reads and executes Python code line by line. Unlike a compiler, which translates the entire program into machine code before execution, an interpreter processes the code in a step-by-step manner.\n",
        "\n",
        "3. What are pre-defined keywords in Python ?\n",
        "\n",
        "  - Pre-defined keywords in Python are reserved words that have special meanings and cannot be used as identifiers such as variable names, function names, etc. These keywords are part of the Python language syntax, and each one serves a specific function. for example:- True, False, None, else, if etc.\n",
        "\n",
        "4. Can keywords be used as variable names ?\n",
        "  - No, keywords cannot be used as variable names in Python. Keywords are reserved words that have specific meanings in the Python language and are used to define the structure and behavior of the code.\n",
        "\n",
        "5. What is mutability in Python ?\n",
        "\n",
        "  - Mutability in Python refers to the ability of an object to be changed or modified after it is created.\n",
        "\n",
        "6. Why are lists mutable, but tuples are immutable ?\n",
        "\n",
        "  - Lists are often used in situations where data might change, such as adding, removing, or altering elements. Immutability allows tuples to be more memory-efficient and faster for certain operations. Since their data cannot change. The difference in mutability between lists and tuples in Python is based on design choices made to optimize performance, flexibility, and use cases.\n",
        "\n",
        "7. What is the difference between “==” and “is” operators in Python ?\n",
        "  - In Python, == and is are both comparison operators, but they are used in different contexts and have different meanings.The == operator is used to compare the values of two objects to check if they are equal.The is operator is used to compare the identities of two objects, meaning it checks if both references point to the same object in memory.\n",
        "\n",
        "8. What are logical operators in Python ?\n",
        "  - logical operators are used to perform logical operations on Boolean values True or False. These operators are commonly used to combine or modify conditions in control flow statements like if, while, and for.\n",
        "\n",
        "9. What is type casting in Python ?\n",
        "  - Type casting in Python refers to the process of converting one data type into another. Python provides several built-in functions to perform type casting, which can be useful when you need to work with data in different formats or need to convert between types for specific operations.\n",
        "\n",
        "10. What is the difference between implicit and explicit type casting ?\n",
        "  - In Python, implicit and explicit type casting also known as type conversion are processes where data types are converted from one type to another. Implicit casting is performed automatically by Python when it makes sense to convert one type to another without losing data or causing errors.Explicit casting is done manually by the programmer using Python's built-in type conversion functions such as int(), float(), str(), etc. This is required when converting between incompatible types or when precision might be lost.\n",
        "\n",
        "11. What is the purpose of conditional statements in Python ?\n",
        "  - The primary purpose of conditional statements in Python is to control the flow of a program by executing specific blocks of code based on whether a condition evaluates to True or False. This enables decision-making within a program.\n",
        "\n",
        "12. How does the elif statement work ?\n",
        "\n",
        "  - The elif statement in Python is used to check multiple conditions in a sequence. It allows the program to decide between several possible code paths by testing conditions one by one. It is short for \"else if\".\n",
        "\n",
        "13. What is the difference between for and while loops ?\n",
        "\n",
        "  - Both for and while loops are used to execute a block of code repeatedly, but they differ in how they control the iteration process. The for loop is used when the number of iterations is known or when iterating over a sequence such as a list, string, or range.The while loop is used when the number of iterations is not known in advance and depends on a condition being met.\n",
        "\n",
        "14. Describe a scenario where a while loop is more suitable than a for loop ?\n",
        "\n",
        "  - A while loop is more suitable when the number of iterations is not known in advance and the loop should run based on a condition that can change dynamically during execution. For Example, Imagine you're developing a system that prompts a user to log in by entering a password. The user is allowed up to 3 attempts to enter the correct password. However, the loop should terminate as soon as the user provides the correct password or after 3 failed attempts. Since the exact number of iterations depends on the user input, a while loop is the better choice."
      ],
      "metadata": {
        "id": "nsyp99ZvRPS7"
      }
    },
    {
      "cell_type": "code",
      "source": [
        "# 1. Write a Python program to print Hello, World!\n",
        "\n",
        "print(\"Hello, World!\")"
      ],
      "metadata": {
        "colab": {
          "base_uri": "https://localhost:8080/"
        },
        "id": "vApYO7JtTS45",
        "outputId": "8ddd377c-c972-4528-ffbf-4eb9b0e5bd1e"
      },
      "execution_count": 1,
      "outputs": [
        {
          "output_type": "stream",
          "name": "stdout",
          "text": [
            "Hello, World!\n"
          ]
        }
      ]
    },
    {
      "cell_type": "code",
      "source": [
        "\n",
        "# 2. Write a Python program that displays your name and age\n",
        "\n",
        "name = \"Gaurav Sharma\"   # Enter Name Here\n",
        "age = 31            # Enter Age Here\n",
        "\n",
        "print(\"My name is\", name)\n",
        "print(\"I am\", age, \"years old\")"
      ],
      "metadata": {
        "colab": {
          "base_uri": "https://localhost:8080/"
        },
        "id": "bfmPfpv7TlBd",
        "outputId": "b7acdf35-ee84-4bbb-c23e-64c01c4e30c3"
      },
      "execution_count": 2,
      "outputs": [
        {
          "output_type": "stream",
          "name": "stdout",
          "text": [
            "My name is Gaurav Sharma\n",
            "I am 31 years old\n"
          ]
        }
      ]
    },
    {
      "cell_type": "code",
      "source": [
        "# 3. Write code to print all the pre-defined keywords in Python using the keyword library\n",
        "\n",
        " # Import the keyword module\n",
        "import keyword\n",
        "\n",
        "# Get the list of all keywords\n",
        "keywords_list = keyword.kwlist\n",
        "\n",
        "# Print the keywords\n",
        "print(\"Pre-defined keywords in Python:\")\n",
        "for kw in keywords_list:\n",
        "    print(kw)"
      ],
      "metadata": {
        "colab": {
          "base_uri": "https://localhost:8080/"
        },
        "id": "cVGbwRk3TomR",
        "outputId": "52ce2d48-cec1-421c-a055-e19ade871b69"
      },
      "execution_count": 3,
      "outputs": [
        {
          "output_type": "stream",
          "name": "stdout",
          "text": [
            "Pre-defined keywords in Python:\n",
            "False\n",
            "None\n",
            "True\n",
            "and\n",
            "as\n",
            "assert\n",
            "async\n",
            "await\n",
            "break\n",
            "class\n",
            "continue\n",
            "def\n",
            "del\n",
            "elif\n",
            "else\n",
            "except\n",
            "finally\n",
            "for\n",
            "from\n",
            "global\n",
            "if\n",
            "import\n",
            "in\n",
            "is\n",
            "lambda\n",
            "nonlocal\n",
            "not\n",
            "or\n",
            "pass\n",
            "raise\n",
            "return\n",
            "try\n",
            "while\n",
            "with\n",
            "yield\n"
          ]
        }
      ]
    },
    {
      "cell_type": "code",
      "source": [
        "# 4. Write a program that checks if a given word is a Python keyword\n",
        "\n",
        "# Import the keyword module\n",
        "import keyword\n",
        "\n",
        "# Get user input\n",
        "word = input(\"Enter a word: \")\n",
        "\n",
        "# Check if the word is a Python keyword\n",
        "if keyword.iskeyword(word):\n",
        "    print(f\"'{word}' is a Python keyword.\")\n",
        "else:\n",
        "    print(f\"'{word}' is not a Python keyword.\")"
      ],
      "metadata": {
        "colab": {
          "base_uri": "https://localhost:8080/"
        },
        "id": "HJefC3gGTvCY",
        "outputId": "569bd7de-c053-4b25-fddc-239732454981"
      },
      "execution_count": 4,
      "outputs": [
        {
          "output_type": "stream",
          "name": "stdout",
          "text": [
            "Enter a word: if\n",
            "'if' is a Python keyword.\n"
          ]
        }
      ]
    },
    {
      "cell_type": "code",
      "source": [
        "#5. Create a list and tuple in Python, and demonstrate how attempting to change an element works differentlyfor each\n",
        "\n",
        "   # Creating a list\n",
        "my_list = [10, 20, 30, 40]\n",
        "\n",
        "# Creating a tuple\n",
        "my_tuple = (10, 20, 30, 40)\n",
        "\n",
        "my_list[1] = 27\n",
        "print(\"Modified list:\", my_list)\n",
        "\n",
        "try:\n",
        "    my_tuple[1] = 25\n",
        "except TypeError as e:\n",
        "    print(\"Error:\", e)"
      ],
      "metadata": {
        "colab": {
          "base_uri": "https://localhost:8080/"
        },
        "id": "6wdQv8OaT0Cq",
        "outputId": "9030dd70-bb50-4be4-ee30-5603916e2e31"
      },
      "execution_count": 5,
      "outputs": [
        {
          "output_type": "stream",
          "name": "stdout",
          "text": [
            "Modified list: [10, 27, 30, 40]\n",
            "Error: 'tuple' object does not support item assignment\n"
          ]
        }
      ]
    },
    {
      "cell_type": "code",
      "source": [
        "\n",
        "#6. Write a function to demonstrate the behavior of mutable and immutable arguments\n",
        "\n",
        "def modify_values(mutable_arg, immutable_arg):\n",
        "    # Modify the mutable argument (list)\n",
        "    mutable_arg.append(100)\n",
        "\n",
        "    # Modify the immutable argument (integer)\n",
        "    immutable_arg += 100\n",
        "\n",
        "    print(\"Inside function:\")\n",
        "    print(\"Mutable argument:\", mutable_arg)\n",
        "    print(\"Immutable argument:\", immutable_arg)\n",
        "\n",
        "# Initial values\n",
        "my_list = [1, 2, 3]  # Mutable argument (list)\n",
        "my_int = 10          # Immutable argument (integer)\n",
        "\n",
        "# Call the function\n",
        "modify_values(my_list, my_int)\n",
        "\n",
        "print(\"\\nOutside function:\")\n",
        "print(\"Mutable argument:\", my_list)   # List is modified\n",
        "print(\"Immutable argument:\", my_int)  # Integer remains unchanged"
      ],
      "metadata": {
        "colab": {
          "base_uri": "https://localhost:8080/"
        },
        "id": "id21KMGLT3wb",
        "outputId": "abe6195a-d059-414f-fe04-f4a76fc9e3ba"
      },
      "execution_count": 6,
      "outputs": [
        {
          "output_type": "stream",
          "name": "stdout",
          "text": [
            "Inside function:\n",
            "Mutable argument: [1, 2, 3, 100]\n",
            "Immutable argument: 110\n",
            "\n",
            "Outside function:\n",
            "Mutable argument: [1, 2, 3, 100]\n",
            "Immutable argument: 10\n"
          ]
        }
      ]
    },
    {
      "cell_type": "code",
      "source": [
        "#7. Write a function to demonstrate the behavior of mutable and immutable arguments\n",
        "\n",
        "\n",
        "def modify_values(mutable_arg, immutable_arg):\n",
        "    # Modify the mutable argument (list)\n",
        "    mutable_arg.append(200)\n",
        "\n",
        "    # Modify the immutable argument (integer)\n",
        "    immutable_arg += 300\n",
        "\n",
        "    print(\"Inside function:\")\n",
        "    print(\"Mutable argument:\", mutable_arg)\n",
        "    print(\"Immutable argument:\", immutable_arg)\n",
        "\n",
        "# Initial values\n",
        "my_list = [1, 2, 3]  # Mutable argument (list)\n",
        "my_int = 10          # Immutable argument (integer)\n",
        "\n",
        "# Call the function\n",
        "modify_values(my_list, my_int)\n",
        "\n",
        "print(\"\\nOutside function:\")\n",
        "print(\"Mutable argument:\", my_list)   # List is modified\n",
        "print(\"Immutable argument:\", my_int)  # Integer remains unchanged"
      ],
      "metadata": {
        "colab": {
          "base_uri": "https://localhost:8080/"
        },
        "id": "kGUWmuKXT8Pt",
        "outputId": "20846153-0b7e-42e0-9728-66ee626093c4"
      },
      "execution_count": 7,
      "outputs": [
        {
          "output_type": "stream",
          "name": "stdout",
          "text": [
            "Inside function:\n",
            "Mutable argument: [1, 2, 3, 200]\n",
            "Immutable argument: 310\n",
            "\n",
            "Outside function:\n",
            "Mutable argument: [1, 2, 3, 200]\n",
            "Immutable argument: 10\n"
          ]
        }
      ]
    },
    {
      "cell_type": "code",
      "source": [
        "#8. Write a program to demonstrate the use of logical operators\n",
        "\n",
        "x = 10\n",
        "y = 5\n",
        "print(\"x > 5 and y < 10:\", x > 5 and y < 10)  # True because both conditions are True\n",
        "print(\"x < 5 or y < 10:\", x < 5 or y < 10)    # True because one condition is True\n",
        "print(\"not (x > y):\", not (x > y))  # False because x > y is True, and 'not' negates it"
      ],
      "metadata": {
        "colab": {
          "base_uri": "https://localhost:8080/"
        },
        "id": "M-rkEe9qUAgL",
        "outputId": "6db79b05-f38c-4620-ed0c-c9444850f3f1"
      },
      "execution_count": 8,
      "outputs": [
        {
          "output_type": "stream",
          "name": "stdout",
          "text": [
            "x > 5 and y < 10: True\n",
            "x < 5 or y < 10: True\n",
            "not (x > y): False\n"
          ]
        }
      ]
    },
    {
      "cell_type": "code",
      "source": [
        "#9. Write a Python program to convert user input from string to integer, float, and boolean types\n",
        "\n",
        "    # Taking user input as a string\n",
        "user_input = input(\"Enter a value: \")\n",
        "\n",
        "# Convert input to integer\n",
        "try:\n",
        "    int_value = int(user_input)\n",
        "    print(f\"Converted to integer: {int_value}\")\n",
        "except ValueError:\n",
        "    print(\"Could not convert to integer.\")\n",
        "\n",
        "# Convert input to float\n",
        "try:\n",
        "    float_value = float(user_input)\n",
        "    print(f\"Converted to float: {float_value}\")\n",
        "except ValueError:\n",
        "    print(\"Could not convert to float.\")\n",
        "\n",
        "# Convert input to boolean\n",
        "if user_input.lower() == 'true':\n",
        "    bool_value = True\n",
        "elif user_input.lower() == 'false':\n",
        "    bool_value = False\n",
        "else:\n",
        "    bool_value = bool(user_input)  # Convert any non-empty string to True\n",
        "print(f\"Converted to boolean: {bool_value}\")"
      ],
      "metadata": {
        "colab": {
          "base_uri": "https://localhost:8080/"
        },
        "id": "W6u3yoGKUH9O",
        "outputId": "6f10999a-5bde-4e16-8b2d-6b8b0cd88f1d"
      },
      "execution_count": 9,
      "outputs": [
        {
          "output_type": "stream",
          "name": "stdout",
          "text": [
            "Enter a value: 25\n",
            "Converted to integer: 25\n",
            "Converted to float: 25.0\n",
            "Converted to boolean: True\n"
          ]
        }
      ]
    },
    {
      "cell_type": "code",
      "source": [
        "\n",
        "#10. Write code to demonstrate type casting with list elements\n",
        "\n",
        "\n",
        "str_list = ['1', '2', '3.5', 'True', '4.8']\n",
        "\n",
        "# Convert elements to integer, float, and boolean\n",
        "int_list = [int(item) if item.isdigit() else 0 for item in str_list]  # Convert valid numbers to int\n",
        "float_list = [float(item) if item.replace('.', '', 1).isdigit() else 0.0 for item in str_list]  # Convert to float\n",
        "bool_list = [item.lower() == 'true' for item in str_list]  # Convert 'True'/'False' strings to boolean\n",
        "\n",
        "\n",
        "print(\"Original List:\", str_list)\n",
        "print(\"Converted to Integer List:\", int_list)\n",
        "print(\"Converted to Float List:\", float_list)\n",
        "print(\"Converted to Boolean List:\", bool_list)\n"
      ],
      "metadata": {
        "colab": {
          "base_uri": "https://localhost:8080/"
        },
        "id": "JmLA_byJUM68",
        "outputId": "5dcc09ad-25c9-41a3-e359-0f23184e363c"
      },
      "execution_count": 10,
      "outputs": [
        {
          "output_type": "stream",
          "name": "stdout",
          "text": [
            "Original List: ['1', '2', '3.5', 'True', '4.8']\n",
            "Converted to Integer List: [1, 2, 0, 0, 0]\n",
            "Converted to Float List: [1.0, 2.0, 3.5, 0.0, 4.8]\n",
            "Converted to Boolean List: [False, False, False, True, False]\n"
          ]
        }
      ]
    },
    {
      "cell_type": "code",
      "source": [
        "#11. Write a program that checks if a number is positive, negative, or zero\n",
        "\n",
        "     # Take input from the user\n",
        "num = float(input(\"Enter a number: \"))\n",
        "\n",
        "# Check if the number is positive, negative, or zero\n",
        "if num > 0:\n",
        "    print(\"The number is positive.\")\n",
        "elif num < 0:\n",
        "    print(\"The number is negative.\")\n",
        "else:\n",
        "    print(\"The number is zero.\")\n"
      ],
      "metadata": {
        "id": "p3olZjuTUSc2"
      },
      "execution_count": null,
      "outputs": []
    },
    {
      "cell_type": "code",
      "source": [
        "#12. Write a for loop to print numbers from 1 to 100\n",
        "\n",
        "\n",
        "for num in range(1, 101):\n",
        "    print(num)"
      ],
      "metadata": {
        "colab": {
          "base_uri": "https://localhost:8080/"
        },
        "id": "qoepzLZ3UV3z",
        "outputId": "a109cabc-ba0d-4ae2-c55c-a2d353d3711d"
      },
      "execution_count": 11,
      "outputs": [
        {
          "output_type": "stream",
          "name": "stdout",
          "text": [
            "1\n",
            "2\n",
            "3\n",
            "4\n",
            "5\n",
            "6\n",
            "7\n",
            "8\n",
            "9\n",
            "10\n",
            "11\n",
            "12\n",
            "13\n",
            "14\n",
            "15\n",
            "16\n",
            "17\n",
            "18\n",
            "19\n",
            "20\n",
            "21\n",
            "22\n",
            "23\n",
            "24\n",
            "25\n",
            "26\n",
            "27\n",
            "28\n",
            "29\n",
            "30\n",
            "31\n",
            "32\n",
            "33\n",
            "34\n",
            "35\n",
            "36\n",
            "37\n",
            "38\n",
            "39\n",
            "40\n",
            "41\n",
            "42\n",
            "43\n",
            "44\n",
            "45\n",
            "46\n",
            "47\n",
            "48\n",
            "49\n",
            "50\n",
            "51\n",
            "52\n",
            "53\n",
            "54\n",
            "55\n",
            "56\n",
            "57\n",
            "58\n",
            "59\n",
            "60\n",
            "61\n",
            "62\n",
            "63\n",
            "64\n",
            "65\n",
            "66\n",
            "67\n",
            "68\n",
            "69\n",
            "70\n",
            "71\n",
            "72\n",
            "73\n",
            "74\n",
            "75\n",
            "76\n",
            "77\n",
            "78\n",
            "79\n",
            "80\n",
            "81\n",
            "82\n",
            "83\n",
            "84\n",
            "85\n",
            "86\n",
            "87\n",
            "88\n",
            "89\n",
            "90\n",
            "91\n",
            "92\n",
            "93\n",
            "94\n",
            "95\n",
            "96\n",
            "97\n",
            "98\n",
            "99\n",
            "100\n"
          ]
        }
      ]
    },
    {
      "cell_type": "code",
      "source": [
        "#13. Write a Python program to find the sum of all even numbers between 1 and 50\n",
        "\n",
        "sum_of_evens = 0\n",
        "\n",
        "\n",
        "for num in range(1, 51):\n",
        "    if num % 2 == 0:  # Check if the number is even\n",
        "        sum_of_evens += num  # Add the even number to the sum\n",
        "\n",
        "# Print the result\n",
        "print(\"The sum of all even numbers between 1 and 50 is:\", sum_of_evens)"
      ],
      "metadata": {
        "colab": {
          "base_uri": "https://localhost:8080/"
        },
        "id": "VbSUYI-aUZdu",
        "outputId": "dc1398bf-8f30-44b2-9c96-2503a7362525"
      },
      "execution_count": 12,
      "outputs": [
        {
          "output_type": "stream",
          "name": "stdout",
          "text": [
            "The sum of all even numbers between 1 and 50 is: 650\n"
          ]
        }
      ]
    },
    {
      "cell_type": "code",
      "source": [
        "#14. Write a program to reverse a string using a while loop\n",
        "\n",
        "  # Function to reverse a string using a while loop\n",
        "def reverse_string(input_string):\n",
        "    reversed_string = \"\"  # Initialize an empty string to store the reversed result\n",
        "    index = len(input_string) - 1  # Start with the last index of the string\n",
        "\n",
        "    # Use a while loop to reverse the string\n",
        "    while index >= 0:\n",
        "        reversed_string += input_string[index]  # Append the current character to the reversed string\n",
        "        index -= 1  # Move to the previous character\n",
        "\n",
        "    return reversed_string\n",
        "\n",
        "# Get user input\n",
        "user_input = input(\"Enter a string to reverse: \")\n",
        "\n",
        "# Call the function and print the reversed string\n",
        "print(\"Reversed string:\", reverse_string(user_input))\n"
      ],
      "metadata": {
        "colab": {
          "base_uri": "https://localhost:8080/"
        },
        "id": "D5-xe8b_UfLm",
        "outputId": "0699a366-14f3-45fd-8a86-cd197a44f9f1"
      },
      "execution_count": 13,
      "outputs": [
        {
          "output_type": "stream",
          "name": "stdout",
          "text": [
            "Enter a string to reverse: P W Skills\n",
            "Reversed string: sllikS W P\n"
          ]
        }
      ]
    },
    {
      "cell_type": "code",
      "source": [
        "#15. Write a Python program to calculate the factorial of a number provided by the user using a while loop.\n",
        "\n",
        "\n",
        "def calculate_factorial(n):\n",
        "    factorial = 1  # Initialize the factorial value to 1\n",
        "    while n > 1:\n",
        "        factorial *= n  # Multiply the current value of factorial by n\n",
        "        n -= 1  # Decrease n by 1\n",
        "    return factorial\n",
        "\n",
        "# Get user input\n",
        "num = int(input(\"Enter a number to calculate its factorial: \"))\n",
        "\n",
        "# Ensure the number is non-negative\n",
        "if num < 0:\n",
        "    print(\"Factorial is not defined for negative numbers.\")\n",
        "else:\n",
        "    # Call the function and display the result\n",
        "    result = calculate_factorial(num)\n",
        "    print(f\"The factorial of {num} is {result}.\")"
      ],
      "metadata": {
        "colab": {
          "base_uri": "https://localhost:8080/"
        },
        "id": "GIksxYRJUpcq",
        "outputId": "fb7be000-6e6b-49ff-bd77-dc88511e0c84"
      },
      "execution_count": 14,
      "outputs": [
        {
          "output_type": "stream",
          "name": "stdout",
          "text": [
            "Enter a number to calculate its factorial: 5\n",
            "The factorial of 5 is 120.\n"
          ]
        }
      ]
    }
  ]
}